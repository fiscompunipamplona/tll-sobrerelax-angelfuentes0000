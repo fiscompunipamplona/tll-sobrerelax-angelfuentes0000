{
 "cells": [
  {
   "cell_type": "markdown",
   "metadata": {},
   "source": [
    "sobre relajación"
   ]
  },
  {
   "cell_type": "markdown",
   "metadata": {},
   "source": [
    " Podemos reescribir la ecuación       x ′ = f (x) en la forma x ′ = x + ∆x, donde…"
   ]
  },
  {
   "cell_type": "markdown",
   "metadata": {},
   "source": [
    "\n",
    "\\begin{equation}\n",
    "\\Delta x=x'-x=f(x)-x\n",
    "\\end{equation}\n",
    "El método de sobre relajación implica la iteración de la ecuación modificada.\n",
    "\\begin{equation}\n",
    "x'=x+(1+w)\\Delta x\n",
    "\\end{equation}\n"
   ]
  },
  {
   "cell_type": "markdown",
   "metadata": {},
   "source": [
    "(manteniendo la definición de ∆x igual). Si el parámetro ω es cero, entonces es el mismo que el método de relajación ordinario, pero para ω> 0 el método toma la cantidad ∆x por la cual el valor de x habría cambiado y cambia un poco más. Usando ∆x = f (x) - x, también podemos escribir x ′ como\n",
    "\n",
    "\\begin{equation}\n",
    "x´=x+(1+w)\\left [ f(x)-x \\right ]=(1+w)f(x)-wx\n",
    "\\end{equation}"
   ]
  },
  {
   "cell_type": "markdown",
   "metadata": {},
   "source": [
    "cual es la forma en que generalmente se escribe.\n",
    "Para que el método funcione, el valor de ω debe elegirse correctamente, aunque hay algo de margen de maniobra: hay un valor óptimo, pero otros valores cercanos también suelen dar buenos resultados. Desafortunadamente, no existe una teoría general que nos diga cuál es el valor óptimo. Por lo general, se encuentra por prueba y error."
   ]
  },
  {
   "cell_type": "markdown",
   "metadata": {},
   "source": [
    "a) Derive un equivalente de la ecuación. (6.81) para el método de sobre relajación y, por lo tanto, muestra que el error en x ', el equivalente de la ecuación. (6.83), viene dado por:\n",
    "\\begin{equation}\n",
    "\\varepsilon'=\\frac{x-x'}{1-1/\\left [ (1+w)f'(x)-w \\right ]}\n",
    "\\end{equation}\n",
    "\n",
    "b) Considere nuevamente la ecuación x = 1 - e - cx que resolvimos en el ejercicio 6.10. Tome el programa que escribió para la parte (a) de ese ejercicio, que resolvió la ecuación para el caso c = 2, y modifíquelo para imprimir el número de iteraciones necesarias para converger en una solución precisa de 10 – 6.\n",
    "\n",
    "c) Ahora escriba un nuevo programa (o modifique el anterior) para resolver la misma ecuación x = 1 - e - cx para c = 2, nuevamente con una precisión de 10 - 6, pero esta vez usando sobrerelajamiento. Haga\n",
    "que su programa imprima las respuestas que encuentre junto con la cantidad de iteraciones que tomó para encontrarlas. Experimente con diferentes valores de ω para ver qué tan rápido puede lograr que el método converja. Un valor de ω = 0.5 es un punto de partida razonable. Con un poco de prueba y error, debería poder hacer que el cálculo converja aproximadamente el doble de rápido que el método de relajación simple, es decir, en aproximadamente la mitad de las iteraciones.\n",
    "\n",
    "d) ¿Hay alguna circunstancia bajo la cual usar un valor ω < 0 nos ayudaría a encontrar una solución más rápido de lo que podemos con el método de relajación ordinario? (Sugerencia: la respuesta es sí, pero ¿por qué?)\n"
   ]
  },
  {
   "cell_type": "markdown",
   "metadata": {},
   "source": [
    "# a)"
   ]
  },
  {
   "cell_type": "markdown",
   "metadata": {},
   "source": [
    "tenemos que \n",
    "\\begin{equation}\n",
    "x'=f(x)\n",
    "\\end{equation}\n",
    "\\begin{equation}\n",
    "x'=x+\\Delta x\n",
    "\\end{equation}\n",
    "\\begin{equation}\n",
    "\\Delta x=x'-x= f(x)-x\n",
    "\\end{equation}\n",
    "\\begin{equation}\n",
    "x'=x+(1+w) \\Delta x\n",
    "\\end{equation}\n",
    "\\begin{equation}\n",
    "\\Delta x = f(x)-x \n",
    "\\end{equation}\n",
    "\\begin{equation}\n",
    "x'=x+(1+w)[f(x)-x] \n",
    "\\end{equation}\n",
    "\\begin{equation}\n",
    "x'=(1+w)f(x)-w x\n",
    "\\end{equation}\n",
    "como la ecuacion 6.81 dice que \n",
    "\\begin{equation}\n",
    "\\varepsilon' = \\varepsilon f'(x) \n",
    "\\end{equation}\n",
    "y tenemos que el error segun al ecuacion 6.83 es igual a \n",
    "\\begin{equation}\n",
    "\\varepsilon' =  \\frac{x-x'}{1-\\frac{1}{f'(x)}}\n",
    "\\end{equation}\n",
    "remplazamos a f'(x) por\n",
    "\\begin{equation}\n",
    "x'=x+(1+w)[f(x)-x] \n",
    "\\end{equation}\n",
    "y nos queda \n",
    "\\begin{equation}\n",
    "\\varepsilon' =  \\frac{x-x'}{1-\\frac{1}{x+(1+w)[f(x)-x] }}\n",
    "\\end{equation}"
   ]
  },
  {
   "cell_type": "markdown",
   "metadata": {},
   "source": [
    "# b"
   ]
  },
  {
   "cell_type": "code",
   "execution_count": 15,
   "metadata": {},
   "outputs": [],
   "source": [
    "from numpy import *#array, linspace,\n",
    "from math import sin, cos, pi, exp, log\n",
    "from pylab import plot, xlabel, ylabel, show"
   ]
  },
  {
   "cell_type": "code",
   "execution_count": 16,
   "metadata": {},
   "outputs": [],
   "source": [
    "# contantes \n",
    "c=2 # parametro que nos dan\n",
    "xi=1 # parametro de valor inicial que un escoge suponiendo que sabe la solucion\n",
    "accu=1e-6 # tolerancial de acierto \n",
    "error = 1.0 # porcentaje de error "
   ]
  },
  {
   "cell_type": "code",
   "execution_count": 17,
   "metadata": {},
   "outputs": [
    {
     "name": "stdout",
     "output_type": "stream",
     "text": [
      "el valor de la iteracion 1 es 0.8646647167633873\n",
      "el valor de la iteracion 2 es 0.8225966691808597\n",
      "el valor de la iteracion 3 es 0.8070247503317746\n",
      "el valor de la iteracion 4 es 0.8009201942366403\n",
      "el valor de la iteracion 5 es 0.7984747083247583\n",
      "el valor de la iteracion 6 es 0.7974866394625985\n",
      "el valor de la iteracion 7 es 0.797086049491047\n",
      "el valor de la iteracion 8 es 0.796923413762181\n",
      "el valor de la iteracion 9 es 0.7968573480008734\n",
      "el valor de la iteracion 10 es 0.7968305046795713\n",
      "el valor de la iteracion 11 es 0.7968195968986895\n",
      "el valor de la iteracion 12 es 0.7968151643557075\n",
      "el valor de la iteracion 13 es 0.7968133630966887\n",
      "el valor de la iteracion 14 es 0.7968126311118457\n",
      "total de iteraciones 14\n"
     ]
    }
   ],
   "source": [
    "\n",
    "j=0 # contador del numero de iteraciones \n",
    "while error > accu:\n",
    "    #xi= 1-exp(-c*xi)\n",
    "    #xf=xi\n",
    "    xi,xf = 1-exp(-c*xi),xi  \n",
    "    error = abs((xi-xf)/(1-exp(c*xi)/c)) # la ecuacion del error \n",
    "    j=j+1 # contdor de iteraciones \n",
    "    m=xi # variable que guarda cada iteracion \n",
    "    print (\"el valor de la iteracion\",j,\"es:\",m) # valor de cada iteracion \n",
    "\n",
    "print (\"total de iteraciones\",j)\n"
   ]
  },
  {
   "cell_type": "markdown",
   "metadata": {},
   "source": [
    "# c)"
   ]
  },
  {
   "cell_type": "code",
   "execution_count": 26,
   "metadata": {},
   "outputs": [],
   "source": [
    "# contantes \n",
    "c=2 # parametro que nos dan\n",
    "xi=1 # parametro de valor inicial que un escoge suponiendo que sabe la solucion\n",
    "accu=1e-6 # tolerancial de acierto \n",
    "error = 1.0 # porcentaje de error \n",
    "w=0.5 # valor preferiblemente menor que 1"
   ]
  },
  {
   "cell_type": "code",
   "execution_count": 27,
   "metadata": {},
   "outputs": [
    {
     "name": "stdout",
     "output_type": "stream",
     "text": [
      "el valor de la iteracion 1 es 1\n",
      "el valor de la iteracion 2 es 0.796997075145081\n",
      "el valor de la iteracion 3 es 0.7968323724281932\n",
      "el valor de la iteracion 4 es 0.7968143476015649\n",
      "total de iteraciones 4\n"
     ]
    }
   ],
   "source": [
    "\n",
    "j=0 # contador de iteraciones\n",
    "while error > accu:\n",
    "    #xi= 1-exp(-c*xi)\n",
    "    #xf=xi\n",
    "    xi,xf=((1+w))*(1-exp(-c*xi))-w*xi,xi # valor de x es igual al de x' nuevo de la funcion  \n",
    "    error = abs((xi-xf)/(1-(exp(c*xf)/c*(1+w))-(1/w))) # funcion de error con metodo sup.relajacion       \n",
    "    j=j+1 # cntador de iteraciones \n",
    "    m=xf \n",
    "    print (\"el valor de la iteracion\",j,\"es:\",m) # valor de cada iteracion \n",
    "\n",
    "print (\"total de iteraciones\",j)\n"
   ]
  },
  {
   "cell_type": "markdown",
   "metadata": {},
   "source": [
    "# d)"
   ]
  },
  {
   "cell_type": "markdown",
   "metadata": {},
   "source": [
    "inicial mente sabemos que este metodo de super-relajación nos ayuda a encontrar la solucion mas rapido reduciendo el numero de iteraciones, sabemos que no existe un valor optimo general que nos ayude a mejorar el rendimiento del calculo, este valor depende de la ecuacion que estemos resolviendo, si escogemos un valor muy grande el metodo se vuelve inestable, por tanto es conveniente escoger valores de w <1"
   ]
  }
 ],
 "metadata": {
  "kernelspec": {
   "display_name": "Python 3",
   "language": "python",
   "name": "python3"
  },
  "language_info": {
   "codemirror_mode": {
    "name": "ipython",
    "version": 3
   },
   "file_extension": ".py",
   "mimetype": "text/x-python",
   "name": "python",
   "nbconvert_exporter": "python",
   "pygments_lexer": "ipython3",
   "version": "3.6.9"
  }
 },
 "nbformat": 4,
 "nbformat_minor": 2
}
